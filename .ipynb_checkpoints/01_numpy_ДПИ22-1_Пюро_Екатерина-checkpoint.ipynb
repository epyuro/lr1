{
 "cells": [
  {
   "cell_type": "markdown",
   "metadata": {},
   "source": [
    "# Numpy"
   ]
  },
  {
   "cell_type": "markdown",
   "metadata": {},
   "source": [
    "Материалы:\n",
    "* Макрушин С.В. \"Лекция 1: Библиотека Numpy\"\n",
    "* https://numpy.org/doc/stable/user/index.html\n",
    "* https://numpy.org/doc/stable/reference/index.html"
   ]
  },
  {
   "cell_type": "markdown",
   "metadata": {},
   "source": [
    "## Задачи для совместного разбора"
   ]
  },
  {
   "cell_type": "markdown",
   "metadata": {},
   "source": [
    "1. Сгенерировать двухмерный массив `arr` размерности (4, 7), состоящий из случайных действительных чисел, равномерно распределенных в диапазоне от 0 до 20. Нормализовать значения массива с помощью преобразования вида  $𝑎𝑥+𝑏$  так, что после нормализации максимальный элемент масcива будет равен 1.0, минимальный 0.0"
   ]
  },
  {
   "cell_type": "code",
   "execution_count": 1,
   "metadata": {},
   "outputs": [],
   "source": [
    "import numpy as np"
   ]
  },
  {
   "cell_type": "code",
   "execution_count": 6,
   "metadata": {},
   "outputs": [
    {
     "data": {
      "text/plain": [
       "array([[ 4, 10, 12, 18,  3,  0, 12],\n",
       "       [ 0,  8,  6,  4,  2,  1, 11],\n",
       "       [ 8, 17,  1, 10, 17,  6,  8],\n",
       "       [ 7,  1,  9, 11,  6, 16, 11]])"
      ]
     },
     "execution_count": 6,
     "metadata": {},
     "output_type": "execute_result"
    }
   ],
   "source": [
    "np.random.randint(0, 20, size = (4, 7))"
   ]
  },
  {
   "cell_type": "markdown",
   "metadata": {},
   "source": [
    "2. Создать матрицу 8 на 10 из случайных целых (используя модуль `numpy.random`) чисел из диапозона от 0 до 10 и найти в ней строку (ее индекс и вывести саму строку), в которой сумма значений минимальна."
   ]
  },
  {
   "cell_type": "code",
   "execution_count": 7,
   "metadata": {},
   "outputs": [
    {
     "data": {
      "text/plain": [
       "array([[3, 7, 9, 1, 9, 6, 9, 3, 2, 9],\n",
       "       [7, 8, 9, 7, 8, 3, 1, 5, 3, 9],\n",
       "       [1, 4, 2, 3, 9, 4, 1, 5, 4, 1],\n",
       "       [1, 4, 7, 9, 4, 7, 6, 8, 7, 8],\n",
       "       [0, 9, 4, 7, 8, 4, 5, 2, 4, 6],\n",
       "       [6, 1, 2, 9, 6, 8, 1, 9, 0, 2],\n",
       "       [5, 2, 4, 5, 9, 2, 1, 7, 5, 1],\n",
       "       [9, 2, 8, 5, 1, 4, 7, 9, 6, 2]])"
      ]
     },
     "execution_count": 7,
     "metadata": {},
     "output_type": "execute_result"
    }
   ],
   "source": [
    "np.random.randint(0, 10, size = (8, 10))"
   ]
  },
  {
   "cell_type": "markdown",
   "metadata": {},
   "source": [
    "3. Найти евклидово расстояние между двумя одномерными векторами одинаковой размерности."
   ]
  },
  {
   "cell_type": "code",
   "execution_count": 10,
   "metadata": {},
   "outputs": [],
   "source": [
    "import matplotlib.pyplot as pl\n",
    "from mpl_toolkits.mplot3d import Axes3D"
   ]
  },
  {
   "cell_type": "code",
   "execution_count": null,
   "metadata": {},
   "outputs": [],
   "source": []
  },
  {
   "cell_type": "markdown",
   "metadata": {},
   "source": [
    "4. Решить матричное уравнение `A*X*B=-C` - найти матрицу `X`. Где `A = [[-1, 2, 4], [-3, 1, 2], [-3, 0, 1]]`, `B=[[3, -1], [2, 1]]`, `C=[[7, 21], [11, 8], [8, 4]]`."
   ]
  },
  {
   "cell_type": "markdown",
   "metadata": {},
   "source": [
    "## Лабораторная работа №1"
   ]
  },
  {
   "cell_type": "markdown",
   "metadata": {},
   "source": [
    "Замечание: при решении данных задач не подразумевается использования циклов или генераторов Python, если в задании не сказано обратного. Решение должно опираться на использования функционала библиотеки `numpy`."
   ]
  },
  {
   "cell_type": "markdown",
   "metadata": {},
   "source": [
    "1. Файл `minutes_n_ingredients.csv` содержит информацию об идентификаторе рецепта, времени его выполнения в минутах и количестве необходимых ингредиентов. Считайте данные из этого файла в виде массива `numpy` типа `int32`, используя `np.loadtxt`. Выведите на экран первые 5 строк массива."
   ]
  },
  {
   "cell_type": "code",
   "execution_count": 4,
   "metadata": {},
   "outputs": [
    {
     "name": "stdout",
     "output_type": "stream",
     "text": [
      "[127244     60     16]\n",
      "[23891    25     7]\n",
      "[94746    10     6]\n",
      "[67660     5     6]\n",
      "[157911     60     14]\n"
     ]
    }
   ],
   "source": [
    "import numpy as np\n",
    " \n",
    "data = np.loadtxt(\"data/minutes_n_ingredients.csv\", delimiter=',', skiprows=1, dtype=np.int32)\n",
    "\n",
    "for x in range(5):\n",
    "    print(data[x])"
   ]
  },
  {
   "cell_type": "markdown",
   "metadata": {},
   "source": [
    "2. Вычислите среднее значение, минимум, максимум и медиану по каждому из столбцов, кроме первого."
   ]
  },
  {
   "cell_type": "code",
   "execution_count": 24,
   "metadata": {},
   "outputs": [
    {
     "name": "stdout",
     "output_type": "stream",
     "text": [
      "[2.22064324e+05 2.16010065e+04 9.05528000e+00]\n",
      "[    537671 2147483647         39]\n",
      "[38  1  1]\n",
      "[2.071935e+05 4.000000e+01 9.000000e+00]\n"
     ]
    }
   ],
   "source": [
    "c = np.mean(data, axis = 0)\n",
    "b = np.max(data, axis = 0)\n",
    "a = np.min(data, axis = 0)\n",
    "d = np.median(data,axis = 0)\n",
    "print(c)\n",
    "print(b)\n",
    "print(a)\n",
    "print(d)"
   ]
  },
  {
   "cell_type": "markdown",
   "metadata": {},
   "source": [
    "3. Ограничьте сверху значения продолжительности выполнения рецепта значением квантиля $q_{0.75}$. "
   ]
  },
  {
   "cell_type": "code",
   "execution_count": 6,
   "metadata": {},
   "outputs": [
    {
     "data": {
      "text/plain": [
       "65.0"
      ]
     },
     "execution_count": 6,
     "metadata": {},
     "output_type": "execute_result"
    }
   ],
   "source": [
    "d = np.quantile(data[:,1], 0.75)\n",
    "d"
   ]
  },
  {
   "cell_type": "markdown",
   "metadata": {},
   "source": [
    "4. Посчитайте, для скольких рецептов указана продолжительность, равная нулю. Замените для таких строк значение в данном столбце на 1."
   ]
  },
  {
   "cell_type": "code",
   "execution_count": 7,
   "metadata": {},
   "outputs": [
    {
     "data": {
      "text/plain": [
       "479"
      ]
     },
     "execution_count": 7,
     "metadata": {},
     "output_type": "execute_result"
    }
   ],
   "source": [
    "d = np.where(data[:,1]==0)\n",
    "len(d[0])"
   ]
  },
  {
   "cell_type": "code",
   "execution_count": 8,
   "metadata": {},
   "outputs": [
    {
     "data": {
      "text/plain": [
       "(array([], dtype=int64),)"
      ]
     },
     "execution_count": 8,
     "metadata": {},
     "output_type": "execute_result"
    }
   ],
   "source": [
    "np.place(data[:,1], data[:,1] == 0, 1)\n",
    "d = np.where(data[:,1]==0)\n",
    "d"
   ]
  },
  {
   "cell_type": "markdown",
   "metadata": {},
   "source": [
    "5. Посчитайте, сколько уникальных рецептов находится в датасете."
   ]
  },
  {
   "cell_type": "code",
   "execution_count": 9,
   "metadata": {},
   "outputs": [
    {
     "data": {
      "text/plain": [
       "100000"
      ]
     },
     "execution_count": 9,
     "metadata": {},
     "output_type": "execute_result"
    }
   ],
   "source": [
    "d = np.unique(data, axis = 0)\n",
    "len(d)"
   ]
  },
  {
   "cell_type": "markdown",
   "metadata": {},
   "source": [
    "6. Сколько и каких различных значений кол-ва ингредиентов присутвует в рецептах из датасета?"
   ]
  },
  {
   "cell_type": "code",
   "execution_count": 10,
   "metadata": {},
   "outputs": [
    {
     "data": {
      "text/plain": [
       "(array([ 1,  2,  3,  4,  5,  6,  7,  8,  9, 10, 11, 12, 13, 14, 15, 16, 17,\n",
       "        18, 19, 20, 21, 22, 23, 24, 25, 26, 27, 28, 29, 30, 31, 32, 33, 34,\n",
       "        35, 37, 39]),\n",
       " array([   13,   926,  2895,  5515,  7913,  9376, 10628, 10951, 10585,\n",
       "         9591,  8297,  6605,  4997,  3663,  2595,  1767,  1246,   790,\n",
       "          573,   376,   217,   161,   105,    69,    50,    28,    16,\n",
       "           16,    12,    12,     3,     1,     2,     1,     3,     1,\n",
       "            1], dtype=int64))"
      ]
     },
     "execution_count": 10,
     "metadata": {},
     "output_type": "execute_result"
    }
   ],
   "source": [
    "d = np.unique(data[: , 2], axis = 0, return_counts=True)\n",
    "d"
   ]
  },
  {
   "cell_type": "markdown",
   "metadata": {},
   "source": [
    "7. Создайте версию массива, содержащую информацию только о рецептах, состоящих не более чем из 5 ингредиентов."
   ]
  },
  {
   "cell_type": "code",
   "execution_count": 11,
   "metadata": {},
   "outputs": [
    {
     "name": "stdout",
     "output_type": "stream",
     "text": [
      "[446597     15      5]\n",
      "[204134      5      3]\n",
      "[25623     6     4]\n",
      "[484223     18      4]\n",
      "[63150   250     4]\n"
     ]
    }
   ],
   "source": [
    "c = data[data[:,2] <=5]\n",
    "for x in range(5):\n",
    "    print(c[x])"
   ]
  },
  {
   "cell_type": "markdown",
   "metadata": {},
   "source": [
    "8. Для каждого рецепта посчитайте, сколько в среднем ингредиентов приходится на одну минуту рецепта. Найдите максимальное значение этой величины для всего датасета"
   ]
  },
  {
   "cell_type": "code",
   "execution_count": 12,
   "metadata": {},
   "outputs": [
    {
     "name": "stdout",
     "output_type": "stream",
     "text": [
      "24.0\n"
     ]
    }
   ],
   "source": [
    "d = data[:,2]/data[:,1]\n",
    "print(d.max())"
   ]
  },
  {
   "cell_type": "markdown",
   "metadata": {},
   "source": [
    "9. Вычислите среднее количество ингредиентов для топ-100 рецептов с наибольшей продолжительностью"
   ]
  },
  {
   "cell_type": "code",
   "execution_count": 13,
   "metadata": {},
   "outputs": [
    {
     "data": {
      "text/plain": [
       "8.43"
      ]
     },
     "execution_count": 13,
     "metadata": {},
     "output_type": "execute_result"
    }
   ],
   "source": [
    "data[:,1][::-1].sort()\n",
    "d = data[:100]\n",
    "np.mean(d[:,2], axis = 0)"
   ]
  },
  {
   "cell_type": "markdown",
   "metadata": {},
   "source": [
    "10. Выберите случайным образом и выведите информацию о 10 различных рецептах"
   ]
  },
  {
   "cell_type": "code",
   "execution_count": 14,
   "metadata": {},
   "outputs": [
    {
     "name": "stdout",
     "output_type": "stream",
     "text": [
      "[344032    105      4]\n",
      "[177073     70     16]\n",
      "[65456    10     8]\n",
      "[6748   55    9]\n",
      "[315852     65     10]\n",
      "[8546   30    3]\n",
      "[251685     40      7]\n",
      "[48565    35     6]\n",
      "[151960     15     17]\n",
      "[370489     70      5]\n"
     ]
    }
   ],
   "source": [
    "randomRow = np.random.randint(100000, size=10)\n",
    "for x in range(10):\n",
    "    print(data[randomRow[x], :])"
   ]
  },
  {
   "cell_type": "markdown",
   "metadata": {},
   "source": [
    "11. Выведите процент рецептов, кол-во ингредиентов в которых меньше среднего."
   ]
  },
  {
   "cell_type": "code",
   "execution_count": 15,
   "metadata": {},
   "outputs": [
    {
     "name": "stdout",
     "output_type": "stream",
     "text": [
      "58.802\n"
     ]
    }
   ],
   "source": [
    "a = np.mean(data[:,2], axis = 0)\n",
    "d = np.where(data[:,2]<a)\n",
    "print(len(d[0])/100000*100)"
   ]
  },
  {
   "cell_type": "markdown",
   "metadata": {},
   "source": [
    "12. Назовем \"простым\" такой рецепт, длительность выполнения которого не больше 20 минут и кол-во ингредиентов в котором не больше 5. Создайте версию датасета с дополнительным столбцом, значениями которого являются 1, если рецепт простой, и 0 в противном случае."
   ]
  },
  {
   "cell_type": "code",
   "execution_count": 16,
   "metadata": {},
   "outputs": [
    {
     "name": "stdout",
     "output_type": "stream",
     "text": [
      "[    127244 2147483647         16          0]\n",
      "[ 23891 259260      7      0]\n",
      "[ 94746 259205      6      0]\n",
      "[ 67660 216015      6      0]\n",
      "[157911 201610     14      0]\n",
      "[152828 146880      7      0]\n",
      "[ 33941 132495      9      0]\n",
      "[446597 129620      5      0]\n",
      "[366174 129615      9      0]\n",
      "[ 74205 129615      7      0]\n",
      "[504666 115230     20      0]\n",
      "[81006 86405     7     0]\n",
      "[280968  86400     11      0]\n",
      "[204134  86400      3      0]\n",
      "[18593 86400     7     0]\n",
      "[25623 86400     4     0]\n",
      "[65559 69120    14     0]\n",
      "[99836 64815     7     0]\n",
      "[87775 60555    13     0]\n",
      "[425704  60540     12      0]\n",
      "[101799  50405      8      0]\n",
      "[106325  44655     11      0]\n",
      "[99283 44645     6     0]\n",
      "[179504  43380     11      0]\n",
      "[276123  43380      7      0]\n",
      "[498382  43250     18      0]\n",
      "[197140  43230      6      0]\n",
      "[484223  43205      4      0]\n",
      "[385472  43202      9      0]\n",
      "[63150 43200     4     0]\n"
     ]
    }
   ],
   "source": [
    "col = np.where(np.logical_and(data[:,1]<=20,data[:,2]<=5), 1, 0)\n",
    "d = data\n",
    "c = np.column_stack((d,col))\n",
    "for x in range(30):\n",
    "   print(c[x])"
   ]
  },
  {
   "cell_type": "markdown",
   "metadata": {},
   "source": [
    "13. Выведите процент \"простых\" рецептов в датасете"
   ]
  },
  {
   "cell_type": "code",
   "execution_count": 17,
   "metadata": {},
   "outputs": [
    {
     "name": "stdout",
     "output_type": "stream",
     "text": [
      "4.52\n"
     ]
    }
   ],
   "source": [
    "d = np.where(c[:,3] == 1)\n",
    "print(len(d[0])/100000*100)"
   ]
  },
  {
   "cell_type": "markdown",
   "metadata": {},
   "source": [
    "14. Разделим рецепты на группы по следующему правилу. Назовем рецепты короткими, если их продолжительность составляет менее 10 минут; стандартными, если их продолжительность составляет более 10, но менее 20 минут; и длинными, если их продолжительность составляет не менее 20 минут. Создайте трехмерный массив, где нулевая ось отвечает за номер группы (короткий, стандартный или длинный рецепт), первая ось - за сам рецепт и вторая ось - за характеристики рецепта. Выберите максимальное количество рецептов из каждой группы таким образом, чтобы было возможно сформировать трехмерный массив. Выведите форму полученного массива."
   ]
  },
  {
   "cell_type": "code",
   "execution_count": 20,
   "metadata": {},
   "outputs": [
    {
     "name": "stdout",
     "output_type": "stream",
     "text": [
      "Формула полученного массива: (3, 7588, 3)\n"
     ]
    },
    {
     "data": {
      "text/plain": [
       "array([[[    362218,          9,         11],\n",
       "        [    400055,          9,         10],\n",
       "        [    354841,          9,          9],\n",
       "        ...,\n",
       "        [    498432,          1,         15],\n",
       "        [    370915,          1,          4],\n",
       "        [     81993,          1,         14]],\n",
       "\n",
       "       [[    228923,         19,          7],\n",
       "        [     89470,         19,          9],\n",
       "        [    474741,         19,         10],\n",
       "        ...,\n",
       "        [    357280,         11,         14],\n",
       "        [    425342,         11,         13],\n",
       "        [    131955,         11,         12]],\n",
       "\n",
       "       [[    127244, 2147483647,         16],\n",
       "        [     23891,     259260,          7],\n",
       "        [     94746,     259205,          6],\n",
       "        ...,\n",
       "        [    389594,        180,         15],\n",
       "        [    161544,        180,          6],\n",
       "        [    347339,        180,          8]]])"
      ]
     },
     "execution_count": 20,
     "metadata": {},
     "output_type": "execute_result"
    }
   ],
   "source": [
    "korotkiy = data[:,1] < 10\n",
    "standartniy = (data[:,1] >= 10) & (data[:,1] <20)\n",
    "dlinniy = data[:,1]>=20\n",
    "\n",
    "mn_gp = min(len(data[korotkiy]), len(data[standartniy]), len(data[dlinniy]))\n",
    "mas3D = np.array(((data[korotkiy])[:mn_gp], (data[standartniy])[:mn_gp], (data[dlinniy])[:mn_gp]))\n",
    "print(\"Формула полученного массива:\", mas3D.shape)\n",
    "mas3D"
   ]
  },
  {
   "cell_type": "code",
   "execution_count": null,
   "metadata": {},
   "outputs": [],
   "source": []
  }
 ],
 "metadata": {
  "kernelspec": {
   "display_name": "Python 3 (ipykernel)",
   "language": "python",
   "name": "python3"
  },
  "language_info": {
   "codemirror_mode": {
    "name": "ipython",
    "version": 3
   },
   "file_extension": ".py",
   "mimetype": "text/x-python",
   "name": "python",
   "nbconvert_exporter": "python",
   "pygments_lexer": "ipython3",
   "version": "3.11.1"
  }
 },
 "nbformat": 4,
 "nbformat_minor": 4
}
